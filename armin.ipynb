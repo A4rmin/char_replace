{
 "cells": [
  {
   "cell_type": "code",
   "execution_count": 1,
   "id": "c289e681",
   "metadata": {},
   "outputs": [],
   "source": [
    "def number_of_name_chars():\n",
    "    name = input(\"Enter your name: \")\n",
    "    count = 0\n",
    "    for char in name:\n",
    "        count += 1\n",
    "    print(\"The number of letters in the name is:\", count)"
   ]
  },
  {
   "cell_type": "code",
   "execution_count": null,
   "id": "d4a8a94a",
   "metadata": {},
   "outputs": [],
   "source": [
    "    # Basic replacements for characters\n",
    "\n",
    "def charReplace(name1,name2):\n",
    "    replacements = {'i': '1', 'a': '4', 's': '5'}\n",
    "    # Basic replacements for characters\n",
    "    def replace_char(name):\n",
    "        result = \"\"\n",
    "        for char in name:\n",
    "            if char in replacements:\n",
    "                result += replacements[char]\n",
    "            else:\n",
    "                result += char\n",
    "\n",
    "        return result\n",
    "\n",
    "    name1 = replace_char(name1)\n",
    "    name2 = replace_char(name2)\n",
    "    print(name1, name2)\n",
    "    return name1, name2\n",
    "\n",
    "charReplace(\"armin\", \"sara\")\n",
    "# 4rm1n 54r4\n",
    "# 4rm1n s4r4\n",
    "# 45rm1n 54r4"
   ]
  },
  {
   "cell_type": "code",
   "execution_count": null,
   "id": "e9aaf50c",
   "metadata": {},
   "outputs": [],
   "source": [
    "# 1. Using a Temporary Variable\n",
    "\n",
    "# def iReplacement(name):\n",
    "#     for char in name:\n",
    "#         if char == \"i\":\n",
    "#             NewName = name.replace(\"i\", \"1\")\n",
    "#     print(NewName)"
   ]
  },
  {
   "cell_type": "code",
   "execution_count": null,
   "id": "31bb7031",
   "metadata": {},
   "outputs": [],
   "source": [
    "    # Alternative using join and generator expression\n",
    "    # def replace_char(name):\n",
    "    #     return \"\".join(replacements.get(char, char) for char in name)\n",
    "    \n",
    "    # Alternative using map and lambda\n",
    "    # def replace_char(name):\n",
    "    #     return \"\".join(map(lambda char: replacements.get(char, char), name))\n",
    "    \n",
    "    # Alternative using list comprehension\n",
    "    # def replace_char(name):\n",
    "    #     return \"\".join([replacements[char] if char in replacements else char for char in name])\n",
    "    \n",
    "    # Alternative using a generator expression\n",
    "    # def replace_char(name):\n",
    "    #     return \"\".join(replacements.get(char, char) for char in name)\n"
   ]
  }
 ],
 "metadata": {
  "kernelspec": {
   "display_name": ".venv (3.13.5)",
   "language": "python",
   "name": "python3"
  },
  "language_info": {
   "codemirror_mode": {
    "name": "ipython",
    "version": 3
   },
   "file_extension": ".py",
   "mimetype": "text/x-python",
   "name": "python",
   "nbconvert_exporter": "python",
   "pygments_lexer": "ipython3",
   "version": "3.13.5"
  }
 },
 "nbformat": 4,
 "nbformat_minor": 5
}
